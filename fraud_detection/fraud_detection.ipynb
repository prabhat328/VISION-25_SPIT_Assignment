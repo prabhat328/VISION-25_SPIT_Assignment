{
  "nbformat": 4,
  "nbformat_minor": 0,
  "metadata": {
    "colab": {
      "provenance": []
    },
    "kernelspec": {
      "name": "python3",
      "display_name": "Python 3"
    },
    "language_info": {
      "name": "python"
    }
  },
  "cells": [
    {
      "cell_type": "code",
      "execution_count": null,
      "metadata": {
        "id": "r-nQ7iZXKlnL"
      },
      "outputs": [],
      "source": [
        "import pandas as pd\n",
        "from sklearn.model_selection import train_test_split\n",
        "from sklearn.ensemble import RandomForestClassifier\n",
        "from sklearn.preprocessing import LabelEncoder\n",
        "from sklearn.metrics import classification_report\n",
        "from imblearn.over_sampling import SMOTE\n",
        "import pickle\n",
        "\n"
      ]
    },
    {
      "cell_type": "code",
      "source": [
        "# Load the dataset\n",
        "data = pd.read_csv(\"sample_data/Fraud.csv\")  # Replace with your dataset path\n",
        "\n",
        "# Drop unnecessary columns\n",
        "data = data.drop(columns=[\"nameOrig\", \"nameDest\"])\n",
        "\n",
        "\n",
        "# Encode the 'type' column\n",
        "encoder = LabelEncoder()\n",
        "data[\"type\"] = encoder.fit_transform(data[\"type\"])  # Encode types to numeric values\n",
        "\n",
        "# Check for missing values\n",
        "print(\"Missing values:\\n\", data.isnull().sum())\n",
        "\n",
        "# Impute missing values (if any)\n",
        "data.fillna(0, inplace=True)\n",
        "\n",
        "data = data.sample(frac=0.5, random_state=42)\n",
        "\n",
        "# Features and target variable\n",
        "X = data.drop(columns=[\"isFraud\", \"isFlaggedFraud\"])  # Exclude target and flagged fraud\n",
        "y = data[\"isFraud\"]\n"
      ],
      "metadata": {
        "id": "quH7sIyiL2_F",
        "colab": {
          "base_uri": "https://localhost:8080/"
        },
        "outputId": "54d0a89f-1ff5-4170-8a38-ddb34a3cc5f3"
      },
      "execution_count": null,
      "outputs": [
        {
          "output_type": "stream",
          "name": "stdout",
          "text": [
            "Missing values:\n",
            " step              0\n",
            "type              0\n",
            "amount            0\n",
            "oldbalanceOrg     0\n",
            "newbalanceOrig    0\n",
            "oldbalanceDest    0\n",
            "newbalanceDest    0\n",
            "isFraud           0\n",
            "isFlaggedFraud    0\n",
            "dtype: int64\n"
          ]
        }
      ]
    },
    {
      "cell_type": "code",
      "source": [
        "# Handle class imbalance using SMOTE\n",
        "try:\n",
        "    smote = SMOTE(random_state=42)\n",
        "    X_resampled, y_resampled = smote.fit_resample(X, y)\n",
        "except ValueError as e:\n",
        "    print(f\"SMOTE error: {e}\")\n",
        "\n",
        "# Split the data\n",
        "X_train, X_test, y_train, y_test = train_test_split(X_resampled, y_resampled, test_size=0.2, random_state=42)\n",
        "\n",
        "# Train a Random Forest model\n",
        "model = RandomForestClassifier(random_state=42)\n",
        "model.fit(X_train, y_train)\n",
        "\n",
        "# Evaluate the model\n",
        "y_pred = model.predict(X_test)\n",
        "print(classification_report(y_test, y_pred))"
      ],
      "metadata": {
        "id": "gP9gHET4L6uA",
        "colab": {
          "base_uri": "https://localhost:8080/"
        },
        "outputId": "2f443670-a4ed-46be-acfb-fabd36a219a5"
      },
      "execution_count": null,
      "outputs": [
        {
          "output_type": "stream",
          "name": "stdout",
          "text": [
            "              precision    recall  f1-score   support\n",
            "\n",
            "           0       1.00      1.00      1.00    635348\n",
            "           1       1.00      1.00      1.00    635530\n",
            "\n",
            "    accuracy                           1.00   1270878\n",
            "   macro avg       1.00      1.00      1.00   1270878\n",
            "weighted avg       1.00      1.00      1.00   1270878\n",
            "\n"
          ]
        }
      ]
    },
    {
      "cell_type": "code",
      "source": [
        "print(data.columns)"
      ],
      "metadata": {
        "colab": {
          "base_uri": "https://localhost:8080/"
        },
        "id": "mnrdEpZVT6n4",
        "outputId": "43eac88c-fd5d-4a32-bf44-b107456f3b86"
      },
      "execution_count": null,
      "outputs": [
        {
          "output_type": "stream",
          "name": "stdout",
          "text": [
            "Index(['step', 'type', 'amount', 'oldbalanceOrg', 'newbalanceOrig',\n",
            "       'oldbalanceDest', 'newbalanceDest', 'isFraud', 'isFlaggedFraud'],\n",
            "      dtype='object')\n"
          ]
        }
      ]
    },
    {
      "cell_type": "code",
      "source": [
        "\n",
        "# Save the model and encoder\n",
        "with open(\"fraud_model.pkl\", \"wb\") as f:\n",
        "    pickle.dump(model, f)\n",
        "with open(\"type_encoder.pkl\", \"wb\") as f:\n",
        "    pickle.dump(encoder, f)\n"
      ],
      "metadata": {
        "id": "G_k-ptnFL7xw"
      },
      "execution_count": null,
      "outputs": []
    }
  ]
}